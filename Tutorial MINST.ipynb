{
 "cells": [
  {
   "cell_type": "code",
   "execution_count": 1,
   "metadata": {},
   "outputs": [
    {
     "name": "stdout",
     "output_type": "stream",
     "text": [
      "Extracting /Users/sinksarghebremedhin/Desktop/Tensorflow-Guide SIJACO/data/train-images-idx3-ubyte.gz\n",
      "Extracting /Users/sinksarghebremedhin/Desktop/Tensorflow-Guide SIJACO/data/train-labels-idx1-ubyte.gz\n",
      "Extracting /Users/sinksarghebremedhin/Desktop/Tensorflow-Guide SIJACO/data/t10k-images-idx3-ubyte.gz\n",
      "Extracting /Users/sinksarghebremedhin/Desktop/Tensorflow-Guide SIJACO/data/t10k-labels-idx1-ubyte.gz\n"
     ]
    }
   ],
   "source": [
    "from tensorflow.examples.tutorials.mnist import input_data\n",
    "import tensorflow as tf\n",
    "import numpy as np\n",
    "import matplotlib.pyplot as plt\n",
    "import matplotlib.image as mpimg\n",
    "import os\n",
    "\n",
    "#save path\n",
    "dir_path = '/Users/sinksarghebremedhin/Desktop/Tensorflow-Guide SIJACO'\n",
    "\n",
    "#load dataset\n",
    "mnist = input_data.read_data_sets(dir_path + '/data/', one_hot=True)\n",
    "train_size = mnist.train.num_examples\n",
    "test_size = mnist.test.num_examples"
   ]
  },
  {
   "cell_type": "code",
   "execution_count": null,
   "metadata": {
    "collapsed": true
   },
   "outputs": [],
   "source": []
  },
  {
   "cell_type": "code",
   "execution_count": null,
   "metadata": {
    "collapsed": true
   },
   "outputs": [],
   "source": []
  },
  {
   "cell_type": "code",
   "execution_count": null,
   "metadata": {
    "collapsed": true
   },
   "outputs": [],
   "source": []
  },
  {
   "cell_type": "code",
   "execution_count": 2,
   "metadata": {
    "collapsed": true
   },
   "outputs": [],
   "source": [
    "def display_digit(image, label=None, pred_label=None):\n",
    "    if image.shape ==(784,):\n",
    "        image = image.reshape((28,28))\n",
    "    label = np.argmax(label, axis=0)\n",
    "    if pred_label is None and label is not None:\n",
    "        plt.title('Label: %d' %(label))\n",
    "    elif label is not None:\n",
    "        plt.title('Label: %d, Pred: %d' %(label, pred_label))\n",
    "    plt.imshow(image, cmap=plt.get_cmap('gray_r'))\n",
    "    plt.show()\n",
    "\n",
    "def display_convergence(error):\n",
    "    plt.plot(error)\n",
    "    plt.title('Error of the NN')\n",
    "    plt.xlabel('Epoch')\n",
    "    plt.ylabel('Error')\n",
    "    plt.show()"
   ]
  },
  {
   "cell_type": "code",
   "execution_count": null,
   "metadata": {
    "collapsed": true
   },
   "outputs": [],
   "source": []
  },
  {
   "cell_type": "code",
   "execution_count": null,
   "metadata": {
    "collapsed": true
   },
   "outputs": [],
   "source": []
  },
  {
   "cell_type": "code",
   "execution_count": null,
   "metadata": {
    "collapsed": true
   },
   "outputs": [],
   "source": []
  },
  {
   "cell_type": "code",
   "execution_count": null,
   "metadata": {
    "collapsed": true
   },
   "outputs": [],
   "source": []
  },
  {
   "cell_type": "code",
   "execution_count": 3,
   "metadata": {},
   "outputs": [],
   "source": [
    "#variablen\n",
    "epochs = 30\n",
    "#batch size in cuda am besten 2er potenz \n",
    "batch_size = 256\n",
    "classes = 10\n",
    "features = 784\n",
    "#wieviele neuronen in verschiedenen Layern\n",
    "layer_nodes = [features, 200, 400, 200, classes]\n",
    "#standardabweichung\n",
    "stddev = 0.010\n",
    "bias_weight_init = 0.50\n",
    "learning_rate = 1e-4\n"
   ]
  },
  {
   "cell_type": "code",
   "execution_count": null,
   "metadata": {
    "collapsed": true
   },
   "outputs": [],
   "source": []
  },
  {
   "cell_type": "code",
   "execution_count": null,
   "metadata": {
    "collapsed": true
   },
   "outputs": [],
   "source": []
  },
  {
   "cell_type": "code",
   "execution_count": null,
   "metadata": {
    "collapsed": true
   },
   "outputs": [],
   "source": []
  },
  {
   "cell_type": "code",
   "execution_count": null,
   "metadata": {
    "collapsed": true
   },
   "outputs": [],
   "source": []
  },
  {
   "cell_type": "code",
   "execution_count": null,
   "metadata": {
    "collapsed": true
   },
   "outputs": [],
   "source": []
  },
  {
   "cell_type": "code",
   "execution_count": null,
   "metadata": {
    "collapsed": true
   },
   "outputs": [],
   "source": []
  },
  {
   "cell_type": "code",
   "execution_count": null,
   "metadata": {
    "collapsed": true
   },
   "outputs": [],
   "source": []
  },
  {
   "cell_type": "code",
   "execution_count": null,
   "metadata": {
    "collapsed": true
   },
   "outputs": [],
   "source": []
  },
  {
   "cell_type": "code",
   "execution_count": 4,
   "metadata": {
    "collapsed": true
   },
   "outputs": [],
   "source": [
    "# TF Placeholders # warum none in shape ??\n",
    "x = tf.placeholder(dtype=tf.float32, shape=[None, features], name='x')\n",
    "y = tf.placeholder(dtype=tf.float32, shape=[None, classes], name='y')"
   ]
  },
  {
   "cell_type": "code",
   "execution_count": null,
   "metadata": {
    "collapsed": true
   },
   "outputs": [],
   "source": []
  },
  {
   "cell_type": "code",
   "execution_count": null,
   "metadata": {
    "collapsed": true
   },
   "outputs": [],
   "source": []
  },
  {
   "cell_type": "code",
   "execution_count": null,
   "metadata": {
    "collapsed": true
   },
   "outputs": [],
   "source": []
  },
  {
   "cell_type": "code",
   "execution_count": null,
   "metadata": {
    "collapsed": true
   },
   "outputs": [],
   "source": []
  },
  {
   "cell_type": "code",
   "execution_count": null,
   "metadata": {
    "collapsed": true
   },
   "outputs": [],
   "source": []
  },
  {
   "cell_type": "code",
   "execution_count": null,
   "metadata": {
    "collapsed": true
   },
   "outputs": [],
   "source": []
  },
  {
   "cell_type": "code",
   "execution_count": 5,
   "metadata": {},
   "outputs": [],
   "source": [
    "# Weight Matrices\n",
    "W1 = tf.Variable(tf.truncated_normal([layer_nodes[0],\n",
    "                                    layer_nodes[1]],\n",
    "                                    stddev=stddev, name=\"W1\"))\n",
    "\n",
    "W2 = tf.Variable(tf.truncated_normal([layer_nodes[1],\n",
    "                                    layer_nodes[2]],\n",
    "                                    stddev=stddev, name=\"W2\"))\n",
    "\n",
    "W3 = tf.Variable(tf.truncated_normal([layer_nodes[2],\n",
    "                                    layer_nodes[3]],\n",
    "                                    stddev=stddev, name=\"W3\"))\n",
    "\n",
    "W4 = tf.Variable(tf.truncated_normal([layer_nodes[3],\n",
    "                                    layer_nodes[4]],\n",
    "                                    stddev=stddev, name=\"W4\"))"
   ]
  },
  {
   "cell_type": "code",
   "execution_count": null,
   "metadata": {
    "collapsed": true
   },
   "outputs": [],
   "source": []
  },
  {
   "cell_type": "code",
   "execution_count": null,
   "metadata": {
    "collapsed": true
   },
   "outputs": [],
   "source": []
  },
  {
   "cell_type": "code",
   "execution_count": null,
   "metadata": {
    "collapsed": true
   },
   "outputs": [],
   "source": []
  },
  {
   "cell_type": "code",
   "execution_count": null,
   "metadata": {
    "collapsed": true
   },
   "outputs": [],
   "source": []
  },
  {
   "cell_type": "code",
   "execution_count": null,
   "metadata": {
    "collapsed": true
   },
   "outputs": [],
   "source": []
  },
  {
   "cell_type": "code",
   "execution_count": null,
   "metadata": {
    "collapsed": true
   },
   "outputs": [],
   "source": []
  },
  {
   "cell_type": "code",
   "execution_count": 6,
   "metadata": {},
   "outputs": [],
   "source": [
    "# Biases Vectors\n",
    "b1 = tf.Variable(tf.truncated_normal([layer_nodes[1]],\n",
    "                                    stddev=stddev, name=\"b1\"))\n",
    "\n",
    "b2 = tf.Variable(tf.truncated_normal([layer_nodes[2]],\n",
    "                                    stddev=stddev, name=\"b2\"))\n",
    "\n",
    "b3 = tf.Variable(tf.truncated_normal([layer_nodes[3]],\n",
    "                                    stddev=stddev, name=\"b3\"))\n",
    "\n",
    "b4 = tf.Variable(tf.truncated_normal([layer_nodes[4]],\n",
    "                                    stddev=stddev, name=\"b4\"))"
   ]
  },
  {
   "cell_type": "code",
   "execution_count": null,
   "metadata": {
    "collapsed": true
   },
   "outputs": [],
   "source": []
  },
  {
   "cell_type": "code",
   "execution_count": null,
   "metadata": {
    "collapsed": true
   },
   "outputs": [],
   "source": []
  },
  {
   "cell_type": "code",
   "execution_count": null,
   "metadata": {
    "collapsed": true
   },
   "outputs": [],
   "source": []
  },
  {
   "cell_type": "code",
   "execution_count": null,
   "metadata": {
    "collapsed": true
   },
   "outputs": [],
   "source": []
  },
  {
   "cell_type": "code",
   "execution_count": null,
   "metadata": {
    "collapsed": true
   },
   "outputs": [],
   "source": []
  },
  {
   "cell_type": "code",
   "execution_count": null,
   "metadata": {
    "collapsed": true
   },
   "outputs": [],
   "source": []
  },
  {
   "cell_type": "code",
   "execution_count": 7,
   "metadata": {
    "collapsed": true
   },
   "outputs": [],
   "source": [
    "\n",
    "# Define the Deep Neural Network\n",
    "def nn_model(x):\n",
    "    input_layer      = {'weights': W1, 'biases': b1}\n",
    "    hidden_layer_1   = {'weights': W2, 'biases': b2}\n",
    "    hidden_layer_2   = {'weights': W3, 'biases': b3}\n",
    "    output_layer     = {'weights': W4, 'biases': b4}\n",
    "   \n",
    "\n",
    "    input_layer_sum = tf.add(tf.matmul(x, input_layer['weights']),\n",
    "                            input_layer['biases'])\n",
    "    input_layer_sum = tf.nn.relu(input_layer_sum)\n",
    "\n",
    "    #hiddenlayer1\n",
    "    hidden_layer_1_sum = tf.add(tf.matmul(input_layer_sum, hidden_layer_1['weights']),\n",
    "                            hidden_layer_1['biases'])\n",
    "    hidden_layer_1_sum = tf.nn.relu(hidden_layer_1_sum)\n",
    "\n",
    "    #hiddenlayer2\n",
    "    hidden_layer_2_sum = tf.add(tf.matmul(hidden_layer_1_sum, hidden_layer_2['weights']),\n",
    "                            hidden_layer_2['biases'])\n",
    "    hidden_layer_2_sum = tf.nn.relu(hidden_layer_2_sum)\n",
    "\n",
    "    #output layer\n",
    "    output_layer_sum = tf.add(tf.matmul(hidden_layer_2_sum, output_layer['weights']),\n",
    "                            output_layer['biases'])\n",
    "    \n",
    "    return output_layer_sum"
   ]
  },
  {
   "cell_type": "code",
   "execution_count": null,
   "metadata": {
    "collapsed": true
   },
   "outputs": [],
   "source": []
  },
  {
   "cell_type": "code",
   "execution_count": null,
   "metadata": {
    "collapsed": true
   },
   "outputs": [],
   "source": []
  },
  {
   "cell_type": "code",
   "execution_count": null,
   "metadata": {
    "collapsed": true
   },
   "outputs": [],
   "source": []
  },
  {
   "cell_type": "code",
   "execution_count": null,
   "metadata": {
    "collapsed": true
   },
   "outputs": [],
   "source": []
  },
  {
   "cell_type": "code",
   "execution_count": null,
   "metadata": {
    "collapsed": true
   },
   "outputs": [],
   "source": []
  },
  {
   "cell_type": "code",
   "execution_count": 8,
   "metadata": {},
   "outputs": [],
   "source": [
    "#train the network\n",
    "def nn_train(x):\n",
    "    epoch_errors = []\n",
    "    pred = nn_model(x)\n",
    "    pred = tf.identity(pred)\n",
    "    cost = tf.reduce_mean(tf.nn.softmax_cross_entropy_with_logits(logits=pred, labels=y))\n",
    "    optimizer = tf.train.AdamOptimizer(learning_rate=learning_rate).minimize(cost)\n",
    "    with tf.Session() as sess:\n",
    "        sess.run(tf.global_variables_initializer())\n",
    "        #Training\n",
    "        for epoch in range(epochs):\n",
    "            epoch_loss = 0.0\n",
    "            \n",
    "            for i in range(int(train_size / batch_size)+1):\n",
    "                epoch_x, epoch_y = mnist.train.next_batch(batch_size)\n",
    "                _, c = sess.run([optimizer, cost], feed_dict={x: epoch_x, y: epoch_y})\n",
    "                epoch_loss += c\n",
    "            epoch_errors.append(epoch_loss)\n",
    "            print(\"epoch: \" , epoch + 1, \" of \" , epochs , \" with loss: \" , epoch_loss)\n",
    "        #display_convergence(epoch_errors)\n",
    "        #Testing\n",
    "        correct_result = tf.equal(tf.argmax(pred,1), tf.argmax(y,1))\n",
    "        accuracy = tf.reduce_mean(tf.cast(correct_result,'float'))\n",
    "        print('Accuracy: ', accuracy.eval({x:mnist.test.images, y:mnist.test.labels}))\n"
   ]
  },
  {
   "cell_type": "code",
   "execution_count": null,
   "metadata": {
    "collapsed": true
   },
   "outputs": [],
   "source": []
  },
  {
   "cell_type": "code",
   "execution_count": null,
   "metadata": {
    "collapsed": true
   },
   "outputs": [],
   "source": []
  },
  {
   "cell_type": "code",
   "execution_count": null,
   "metadata": {
    "collapsed": true
   },
   "outputs": [],
   "source": []
  },
  {
   "cell_type": "code",
   "execution_count": null,
   "metadata": {
    "collapsed": true
   },
   "outputs": [],
   "source": []
  },
  {
   "cell_type": "code",
   "execution_count": null,
   "metadata": {
    "collapsed": true
   },
   "outputs": [],
   "source": []
  },
  {
   "cell_type": "code",
   "execution_count": null,
   "metadata": {
    "collapsed": true
   },
   "outputs": [],
   "source": []
  },
  {
   "cell_type": "code",
   "execution_count": null,
   "metadata": {
    "collapsed": true
   },
   "outputs": [],
   "source": []
  },
  {
   "cell_type": "code",
   "execution_count": null,
   "metadata": {
    "collapsed": true
   },
   "outputs": [],
   "source": []
  },
  {
   "cell_type": "code",
   "execution_count": null,
   "metadata": {
    "collapsed": true
   },
   "outputs": [],
   "source": []
  },
  {
   "cell_type": "code",
   "execution_count": 9,
   "metadata": {},
   "outputs": [
    {
     "name": "stdout",
     "output_type": "stream",
     "text": [
      "epoch:  1  of  30  with loss:  334.270492613\n",
      "epoch:  2  of  30  with loss:  145.380720228\n",
      "epoch:  3  of  30  with loss:  125.319060504\n",
      "epoch:  4  of  30  with loss:  113.378818244\n",
      "epoch:  5  of  30  with loss:  103.196672022\n",
      "epoch:  6  of  30  with loss:  93.5043314397\n",
      "epoch:  7  of  30  with loss:  82.8261051774\n",
      "epoch:  8  of  30  with loss:  72.6026547998\n",
      "epoch:  9  of  30  with loss:  64.967619583\n",
      "epoch:  10  of  30  with loss:  59.3134810627\n",
      "epoch:  11  of  30  with loss:  54.7872754782\n",
      "epoch:  12  of  30  with loss:  51.0232528895\n",
      "epoch:  13  of  30  with loss:  47.5441974849\n",
      "epoch:  14  of  30  with loss:  44.7148006782\n",
      "epoch:  15  of  30  with loss:  41.7006443292\n",
      "epoch:  16  of  30  with loss:  39.1209239885\n",
      "epoch:  17  of  30  with loss:  37.3184373453\n",
      "epoch:  18  of  30  with loss:  34.979401961\n",
      "epoch:  19  of  30  with loss:  33.2270972356\n",
      "epoch:  20  of  30  with loss:  31.4400191009\n",
      "epoch:  21  of  30  with loss:  30.1079876497\n",
      "epoch:  22  of  30  with loss:  28.4582511447\n",
      "epoch:  23  of  30  with loss:  27.055473581\n",
      "epoch:  24  of  30  with loss:  26.0887629203\n",
      "epoch:  25  of  30  with loss:  24.6429618336\n",
      "epoch:  26  of  30  with loss:  23.4374359697\n",
      "epoch:  27  of  30  with loss:  22.760185007\n",
      "epoch:  28  of  30  with loss:  21.5771206282\n",
      "epoch:  29  of  30  with loss:  20.7262265235\n",
      "epoch:  30  of  30  with loss:  19.8921593465\n",
      "Accuracy:  0.9645\n"
     ]
    }
   ],
   "source": [
    "nn_train(x)"
   ]
  },
  {
   "cell_type": "code",
   "execution_count": null,
   "metadata": {
    "collapsed": true
   },
   "outputs": [],
   "source": []
  },
  {
   "cell_type": "code",
   "execution_count": null,
   "metadata": {
    "collapsed": true
   },
   "outputs": [],
   "source": []
  },
  {
   "cell_type": "code",
   "execution_count": null,
   "metadata": {
    "collapsed": true
   },
   "outputs": [],
   "source": []
  },
  {
   "cell_type": "code",
   "execution_count": null,
   "metadata": {
    "collapsed": true
   },
   "outputs": [],
   "source": []
  },
  {
   "cell_type": "code",
   "execution_count": null,
   "metadata": {
    "collapsed": true
   },
   "outputs": [],
   "source": []
  },
  {
   "cell_type": "code",
   "execution_count": null,
   "metadata": {
    "collapsed": true
   },
   "outputs": [],
   "source": []
  },
  {
   "cell_type": "code",
   "execution_count": null,
   "metadata": {
    "collapsed": true
   },
   "outputs": [],
   "source": []
  },
  {
   "cell_type": "code",
   "execution_count": null,
   "metadata": {
    "collapsed": true
   },
   "outputs": [],
   "source": []
  },
  {
   "cell_type": "code",
   "execution_count": null,
   "metadata": {
    "collapsed": true
   },
   "outputs": [],
   "source": []
  },
  {
   "cell_type": "code",
   "execution_count": null,
   "metadata": {
    "collapsed": true
   },
   "outputs": [],
   "source": []
  },
  {
   "cell_type": "code",
   "execution_count": null,
   "metadata": {
    "collapsed": true
   },
   "outputs": [],
   "source": []
  },
  {
   "cell_type": "code",
   "execution_count": null,
   "metadata": {
    "collapsed": true
   },
   "outputs": [],
   "source": []
  },
  {
   "cell_type": "code",
   "execution_count": null,
   "metadata": {
    "collapsed": true
   },
   "outputs": [],
   "source": []
  },
  {
   "cell_type": "code",
   "execution_count": null,
   "metadata": {
    "collapsed": true
   },
   "outputs": [],
   "source": []
  },
  {
   "cell_type": "code",
   "execution_count": null,
   "metadata": {
    "collapsed": true
   },
   "outputs": [],
   "source": []
  },
  {
   "cell_type": "code",
   "execution_count": null,
   "metadata": {
    "collapsed": true
   },
   "outputs": [],
   "source": []
  },
  {
   "cell_type": "code",
   "execution_count": null,
   "metadata": {
    "collapsed": true
   },
   "outputs": [],
   "source": []
  },
  {
   "cell_type": "code",
   "execution_count": null,
   "metadata": {
    "collapsed": true
   },
   "outputs": [],
   "source": []
  },
  {
   "cell_type": "code",
   "execution_count": null,
   "metadata": {
    "collapsed": true
   },
   "outputs": [],
   "source": []
  },
  {
   "cell_type": "code",
   "execution_count": null,
   "metadata": {
    "collapsed": true
   },
   "outputs": [],
   "source": []
  },
  {
   "cell_type": "code",
   "execution_count": null,
   "metadata": {},
   "outputs": [],
   "source": []
  },
  {
   "cell_type": "code",
   "execution_count": null,
   "metadata": {
    "collapsed": true
   },
   "outputs": [],
   "source": []
  },
  {
   "cell_type": "code",
   "execution_count": null,
   "metadata": {
    "collapsed": true
   },
   "outputs": [],
   "source": []
  },
  {
   "cell_type": "code",
   "execution_count": null,
   "metadata": {
    "collapsed": true
   },
   "outputs": [],
   "source": []
  },
  {
   "cell_type": "code",
   "execution_count": null,
   "metadata": {
    "collapsed": true
   },
   "outputs": [],
   "source": []
  },
  {
   "cell_type": "code",
   "execution_count": null,
   "metadata": {
    "collapsed": true
   },
   "outputs": [],
   "source": []
  },
  {
   "cell_type": "code",
   "execution_count": null,
   "metadata": {
    "collapsed": true
   },
   "outputs": [],
   "source": []
  }
 ],
 "metadata": {
  "kernelspec": {
   "display_name": "Python 3",
   "language": "python",
   "name": "python3"
  },
  "language_info": {
   "codemirror_mode": {
    "name": "ipython",
    "version": 3
   },
   "file_extension": ".py",
   "mimetype": "text/x-python",
   "name": "python",
   "nbconvert_exporter": "python",
   "pygments_lexer": "ipython3",
   "version": "3.5.4"
  }
 },
 "nbformat": 4,
 "nbformat_minor": 2
}
